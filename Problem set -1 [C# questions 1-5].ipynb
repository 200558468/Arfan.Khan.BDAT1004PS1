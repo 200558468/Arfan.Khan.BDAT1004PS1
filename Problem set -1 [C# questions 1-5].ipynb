{
 "cells": [
  {
   "cell_type": "markdown",
   "id": "ffe10f8e",
   "metadata": {},
   "source": [
    "# Question 1:\n",
    "\n",
    "What data type is each of the following?\n",
    "\n",
    "5  \n",
    "Solution: Integer  \n",
    "5.0  \n",
    "Solution: Float  \n",
    "5 > 1  \n",
    "Solution: Boolean  \n",
    "'5'  \n",
    "Solution: char  \n",
    "5 * 2  \n",
    "Solution: Integer  \n",
    "'5' * 2  \n",
    "Solution: Integer  \n",
    "'5' + '2'  \n",
    "Solution: String  \n",
    "5 / 2  \n",
    "Solution: Float  \n",
    "5 % 2  \n",
    "Solution: Integer  \n",
    "{5, 2, 1}  \n",
    "Solution: Array  \n",
    "5 == 3  \n",
    "Solution: Boolean  \n",
    "Pi (the number)  \n",
    "Solution: Double  "
   ]
  },
  {
   "cell_type": "markdown",
   "id": "ef939f19",
   "metadata": {},
   "source": [
    "# Question 2: \n",
    "\n",
    "Write (and evaluate) C# expressions that answer these questions:  \n",
    "a. How many letters are there in 'Supercalifragilisticexpialidocious'?  \n",
    "\n",
    "b. Does 'Supercalifragilisticexpialidocious' contain 'ice' as a substring?  \n",
    "\n",
    "c. Which of the following words is the longest:\n",
    "Supercalifragilisticexpialidocious,\n",
    "Honorificabilitudinitatibus, or\n",
    "Bababadalgharaghtakamminarronnkonn?\n",
    "\n",
    "d. Which composer comes first in the dictionary:\n",
    "'Berlioz', 'Borodin', 'Brian','Bartok', 'Bellini', 'Buxtehude', 'Bernstein'.\n",
    "Which one comes last?\n"
   ]
  },
  {
   "cell_type": "code",
   "execution_count": 5,
   "id": "caa607d3",
   "metadata": {},
   "outputs": [
    {
     "name": "stdout",
     "output_type": "stream",
     "text": [
      "34\r\n"
     ]
    }
   ],
   "source": [
    "// Solution for a\n",
    "\n",
    "string inputstr = \"Supercalifragilisticexpialidocious\";\n",
    "\n",
    "int inputLength = inputstr.Length;\n",
    "Console.WriteLine(inputLength)\n",
    "\n",
    "\n"
   ]
  },
  {
   "cell_type": "code",
   "execution_count": 10,
   "id": "3d5a4716",
   "metadata": {},
   "outputs": [
    {
     "name": "stdout",
     "output_type": "stream",
     "text": [
      "Supercalifragilisticexpialidocious contains 'ice'\r\n"
     ]
    }
   ],
   "source": [
    "// solution for b\n",
    "\n",
    "string inputstr = \"Supercalifragilisticexpialidocious\";\n",
    "bool result = inputstr.Contains(\"ice\");\n",
    "if (result)\n",
    "{\n",
    "Console.WriteLine($\"{inputstr} contains 'ice'\");\n",
    "}\n",
    "else\n",
    "{\n",
    "Console.WriteLine($\"{inputstr} does not contain 'ice'\");\n",
    "}"
   ]
  },
  {
   "cell_type": "code",
   "execution_count": 17,
   "id": "96060063",
   "metadata": {},
   "outputs": [
    {
     "name": "stdout",
     "output_type": "stream",
     "text": [
      "Supercalifragilisticexpialidocious is the longest string with length 34\n",
      "Bababadalgharaghtakamminarronnkonn is the longest string with length 34\n",
      "There are a total of 2 string with Length 34\n"
     ]
    }
   ],
   "source": [
    "// solution for c\n",
    "\n",
    "string str1 = \"Supercalifragilisticexpialidocious\";\n",
    "string str2 = \"Honorificabilitudinitatibus\";\n",
    "string str3 = \"Bababadalgharaghtakamminarronnkonn\"; \n",
    "string[] str = {str1, str2, str3};\n",
    "int max = 0;\n",
    "int count = 0;\n",
    "foreach ( string strS in str )\n",
    "{\n",
    "if (strS.Length > max)\n",
    "{\n",
    "max = strS.Length;\n",
    "}\n",
    "}\n",
    "foreach (string strS in str)\n",
    "{\n",
    "if(strS.Length == max)\n",
    "{\n",
    "Console.WriteLine($\"{strS} is the longest string with length {max}\");\n",
    "count++;\n",
    "}\n",
    "}\n",
    "Console.WriteLine($\"There are a total of {count} string with Length {max}\");"
   ]
  },
  {
   "cell_type": "code",
   "execution_count": 24,
   "id": "4d5b9edb",
   "metadata": {},
   "outputs": [
    {
     "name": "stdout",
     "output_type": "stream",
     "text": [
      "the first composer file in the dictionary is Bartok\n",
      "the last composer file in the dictionary is Buxtehude\n"
     ]
    }
   ],
   "source": [
    "// Solution for d\n",
    "\n",
    "string [] str = {\"Berlioz\", \"Borodin\", \"Brian\",\"Bartok\", \"Bellini\", \"Buxtehude\", \"Bernstein\"};\n",
    "Array.Sort(str);\n",
    "Console.WriteLine($\"the first composer file in the dictionary is {str[0]}\");\n",
    "Console.WriteLine($\"the last composer file in the dictionary is {str[str.Length-1]}\");\n",
    "\n"
   ]
  },
  {
   "cell_type": "markdown",
   "id": "1125c3ab",
   "metadata": {},
   "source": [
    "# Question 3 :\n",
    "\n",
    "Implement function triangleArea(a,b,c) that takes as input the lengths of the 3 sides of a triangle and returns the area of the triangle. By Heron's formula, the area of a triangle with side lengths a, b, and c is square root of s(s − a)(s − b)(s − c), where  \n",
    "s = (a + b + c)/2.  \n",
    ".>>> triangleArea(2,2,2)  \n",
    "1.7320508075688772  "
   ]
  },
  {
   "cell_type": "code",
   "execution_count": 40,
   "id": "bf647317",
   "metadata": {},
   "outputs": [],
   "source": [
    "double triangleArea(double a,double b,double c)\n",
    "{\n",
    "    double s = (a + b + c)/2;\n",
    "    double area = Math.Sqrt(s*(s-a)*(s-b)*(s-c));\n",
    "    return area;\n",
    "}"
   ]
  },
  {
   "cell_type": "code",
   "execution_count": 43,
   "id": "2c1636af",
   "metadata": {},
   "outputs": [
    {
     "data": {
      "text/html": [
       "<div class=\"dni-plaintext\"><pre>1.7320508075688772</pre></div><style>\r\n",
       ".dni-code-hint {\r\n",
       "    font-style: italic;\r\n",
       "    overflow: hidden;\r\n",
       "    white-space: nowrap;\r\n",
       "}\r\n",
       ".dni-treeview {\r\n",
       "    white-space: nowrap;\r\n",
       "}\r\n",
       ".dni-treeview td {\r\n",
       "    vertical-align: top;\r\n",
       "    text-align: start;\r\n",
       "}\r\n",
       "details.dni-treeview {\r\n",
       "    padding-left: 1em;\r\n",
       "}\r\n",
       "table td {\r\n",
       "    text-align: start;\r\n",
       "}\r\n",
       "table tr { \r\n",
       "    vertical-align: top; \r\n",
       "    margin: 0em 0px;\r\n",
       "}\r\n",
       "table tr td pre \r\n",
       "{ \r\n",
       "    vertical-align: top !important; \r\n",
       "    margin: 0em 0px !important;\r\n",
       "} \r\n",
       "table th {\r\n",
       "    text-align: start;\r\n",
       "}\r\n",
       "</style>"
      ]
     },
     "execution_count": 43,
     "metadata": {},
     "output_type": "execute_result"
    }
   ],
   "source": [
    "triangleArea (2,2,2)"
   ]
  },
  {
   "cell_type": "markdown",
   "id": "ceb9e033",
   "metadata": {},
   "source": [
    "# Question 4 :\n",
    "\n",
    "Write a program in C# Sharp to separate odd and even integers in separate arrays.  \n",
    "Go to the editor  \n",
    "Test Data :  \n",
    "Input the number of elements to be stored in the array :5  \n",
    "Input 5 elements in the array :  \n",
    "element - 0 : 25  \n",
    "element - 1 : 47  \n",
    "element - 2 : 42  \n",
    "element - 3 : 56  \n",
    "element - 4 : 32  \n",
    "Expected Output:  \n",
    "The Even elements are:  \n",
    "42 56 32  \n",
    "The Odd elements are :  \n",
    "25 47  "
   ]
  },
  {
   "cell_type": "code",
   "execution_count": 50,
   "id": "df983fc4",
   "metadata": {},
   "outputs": [
    {
     "name": "stdout",
     "output_type": "stream",
     "text": [
      "Input the number of Elements to be stored in Array: "
     ]
    },
    {
     "ename": "Error",
     "evalue": "System.ArgumentNullException: Value cannot be null. (Parameter 's')\r\n   at System.Int32.Parse(String s)\r\n   at Submission#52.<<Initialize>>d__0.MoveNext()\r\n--- End of stack trace from previous location ---\r\n   at Microsoft.CodeAnalysis.Scripting.ScriptExecutionState.RunSubmissionsAsync[TResult](ImmutableArray`1 precedingExecutors, Func`2 currentExecutor, StrongBox`1 exceptionHolderOpt, Func`2 catchExceptionOpt, CancellationToken cancellationToken)",
     "output_type": "error",
     "traceback": [
      "System.ArgumentNullException: Value cannot be null. (Parameter 's')\r\n   at System.Int32.Parse(String s)\r\n   at Submission#52.<<Initialize>>d__0.MoveNext()\r\n--- End of stack trace from previous location ---\r\n   at Microsoft.CodeAnalysis.Scripting.ScriptExecutionState.RunSubmissionsAsync[TResult](ImmutableArray`1 precedingExecutors, Func`2 currentExecutor, StrongBox`1 exceptionHolderOpt, Func`2 catchExceptionOpt, CancellationToken cancellationToken)",
      "   at System.Int32.Parse(String s)",
      "   at Submission#52.<<Initialize>>d__0.MoveNext()",
      "--- End of stack trace from previous location ---",
      "   at Microsoft.CodeAnalysis.Scripting.ScriptExecutionState.RunSubmissionsAsync[TResult](ImmutableArray`1 precedingExecutors, Func`2 currentExecutor, StrongBox`1 exceptionHolderOpt, Func`2 catchExceptionOpt, CancellationToken cancellationToken)"
     ]
    }
   ],
   "source": [
    "Console.Write($\"Input the number of Elements to be stored in Array: \");\n",
    "int arrayLength = int.Parse(Console.ReadLine());\n",
    "int[] number = new int[arrayLength];\n",
    "int inputNum;\n",
    "int[] evenNum = new int[arrayLength];\n",
    "int[] oddNum = new int[arrayLength];\n",
    "int evenCount = 0;\n",
    "int oddCount = 0;\n",
    "\n",
    "for (int i = 0; i < arrayLength; i++)\n",
    "{\n",
    "    Console.Write($\"\\n Enter the value of the Index {i}:\");\n",
    "    inputNum = int.Parse(Console.ReadLine());\n",
    "    number[i] = inputNum;\n",
    "}\n",
    "foreach (int n in number)\n",
    "{\n",
    "    if (n % 2 == 0)\n",
    "    {\n",
    "        evenNum[evenCount] = n;\n",
    "        evenCount++;\n",
    "    }\n",
    "    else\n",
    "    {\n",
    "        oddNum[oddCount] = n;\n",
    "        oddCount++;\n",
    "    }\n",
    "}\n",
    "\n",
    "Console.WriteLine(\"\\n The even numbers are:\");\n",
    "\n",
    "for (int i=0; i<evenCount; i++)\n",
    "{\n",
    "    Console.Write(evenNum[i] + \"  \");\n",
    "}\n",
    "Console.WriteLine(\"\\n The odd numbers are:\");\n",
    "\n",
    "for (int i = 0; i < oddCount; i++)\n",
    "{\n",
    "\n",
    "    Console.Write(oddNum[i] + \"  \");\n",
    "}\n",
    "// Note - Console.ReadLine does not work with Jupyter notebook. Hence, the error.  \n",
    "// Please copy the code to any other Editor (eg: Visual studio) for proper o/p. "
   ]
  },
  {
   "cell_type": "markdown",
   "id": "4a0aaede",
   "metadata": {},
   "source": [
    "# Question 5:\n",
    "\n",
    "a. Write a function inside(x,y,x1,y1,x2,y2) that returns True or False depending on whether the point (x,y) lies in the rectangle with lower left corner (x1,y1) and upper right corner (x2,y2).  \n",
    "\n",
    ".>>> inside(1,1,0,0,2,3)  \n",
    "True\n",
    ".>>> inside(-1,-1,0,0,2,3)\n",
    "False\n",
    "b. Use function inside() from part a. to write an expression that tests whether the point (1,1) lies in both of the following rectangles: one with lower left corner (0.3, 0.5) and upper right corner (1.1, 0.7) and the other with lower left corner (0.5, 0.2) and upper right corner (1.1, 2)."
   ]
  },
  {
   "cell_type": "code",
   "execution_count": 51,
   "id": "65e03d44",
   "metadata": {},
   "outputs": [],
   "source": [
    "// Solution for a\n",
    "\n",
    "bool inside(double x,double y,double x1,double y1,double x2,double y2)\n",
    "{\n",
    "    if(x1<x && x<x2)\n",
    "    {\n",
    "        if(y1<y && y<y2)\n",
    "        {\n",
    "            return true;\n",
    "        }\n",
    "    }\n",
    "    return false;\n",
    "}"
   ]
  },
  {
   "cell_type": "code",
   "execution_count": 52,
   "id": "646bbb52",
   "metadata": {},
   "outputs": [
    {
     "data": {
      "text/html": [
       "<div class=\"dni-plaintext\"><pre>True</pre></div><style>\r\n",
       ".dni-code-hint {\r\n",
       "    font-style: italic;\r\n",
       "    overflow: hidden;\r\n",
       "    white-space: nowrap;\r\n",
       "}\r\n",
       ".dni-treeview {\r\n",
       "    white-space: nowrap;\r\n",
       "}\r\n",
       ".dni-treeview td {\r\n",
       "    vertical-align: top;\r\n",
       "    text-align: start;\r\n",
       "}\r\n",
       "details.dni-treeview {\r\n",
       "    padding-left: 1em;\r\n",
       "}\r\n",
       "table td {\r\n",
       "    text-align: start;\r\n",
       "}\r\n",
       "table tr { \r\n",
       "    vertical-align: top; \r\n",
       "    margin: 0em 0px;\r\n",
       "}\r\n",
       "table tr td pre \r\n",
       "{ \r\n",
       "    vertical-align: top !important; \r\n",
       "    margin: 0em 0px !important;\r\n",
       "} \r\n",
       "table th {\r\n",
       "    text-align: start;\r\n",
       "}\r\n",
       "</style>"
      ]
     },
     "execution_count": 52,
     "metadata": {},
     "output_type": "execute_result"
    }
   ],
   "source": [
    "inside (1,1,0,0,2,3)\n"
   ]
  },
  {
   "cell_type": "code",
   "execution_count": 53,
   "id": "3777f0f7",
   "metadata": {},
   "outputs": [
    {
     "data": {
      "text/html": [
       "<div class=\"dni-plaintext\"><pre>False</pre></div><style>\r\n",
       ".dni-code-hint {\r\n",
       "    font-style: italic;\r\n",
       "    overflow: hidden;\r\n",
       "    white-space: nowrap;\r\n",
       "}\r\n",
       ".dni-treeview {\r\n",
       "    white-space: nowrap;\r\n",
       "}\r\n",
       ".dni-treeview td {\r\n",
       "    vertical-align: top;\r\n",
       "    text-align: start;\r\n",
       "}\r\n",
       "details.dni-treeview {\r\n",
       "    padding-left: 1em;\r\n",
       "}\r\n",
       "table td {\r\n",
       "    text-align: start;\r\n",
       "}\r\n",
       "table tr { \r\n",
       "    vertical-align: top; \r\n",
       "    margin: 0em 0px;\r\n",
       "}\r\n",
       "table tr td pre \r\n",
       "{ \r\n",
       "    vertical-align: top !important; \r\n",
       "    margin: 0em 0px !important;\r\n",
       "} \r\n",
       "table th {\r\n",
       "    text-align: start;\r\n",
       "}\r\n",
       "</style>"
      ]
     },
     "execution_count": 53,
     "metadata": {},
     "output_type": "execute_result"
    }
   ],
   "source": [
    "inside (-1,-1,0,0,2,3)"
   ]
  },
  {
   "cell_type": "code",
   "execution_count": 54,
   "id": "676aa1fb",
   "metadata": {},
   "outputs": [],
   "source": [
    "// Solution for b\n",
    "\n",
    "bool CheckBothRectangle(double x,double y)\n",
    "{\n",
    "    bool insideFirstRectangle = inside(x,y,0.3,0.5,1.1,0.7);\n",
    "    bool insideSecondRectangle = inside(x,y,0.5,0.2,1.1,2);\n",
    "    return insideFirstRectangle && insideSecondRectangle;\n",
    "}\n"
   ]
  },
  {
   "cell_type": "code",
   "execution_count": 55,
   "id": "2d7620e6",
   "metadata": {},
   "outputs": [
    {
     "data": {
      "text/html": [
       "<div class=\"dni-plaintext\"><pre>False</pre></div><style>\r\n",
       ".dni-code-hint {\r\n",
       "    font-style: italic;\r\n",
       "    overflow: hidden;\r\n",
       "    white-space: nowrap;\r\n",
       "}\r\n",
       ".dni-treeview {\r\n",
       "    white-space: nowrap;\r\n",
       "}\r\n",
       ".dni-treeview td {\r\n",
       "    vertical-align: top;\r\n",
       "    text-align: start;\r\n",
       "}\r\n",
       "details.dni-treeview {\r\n",
       "    padding-left: 1em;\r\n",
       "}\r\n",
       "table td {\r\n",
       "    text-align: start;\r\n",
       "}\r\n",
       "table tr { \r\n",
       "    vertical-align: top; \r\n",
       "    margin: 0em 0px;\r\n",
       "}\r\n",
       "table tr td pre \r\n",
       "{ \r\n",
       "    vertical-align: top !important; \r\n",
       "    margin: 0em 0px !important;\r\n",
       "} \r\n",
       "table th {\r\n",
       "    text-align: start;\r\n",
       "}\r\n",
       "</style>"
      ]
     },
     "execution_count": 55,
     "metadata": {},
     "output_type": "execute_result"
    }
   ],
   "source": [
    "CheckBothRectangle (1,1)"
   ]
  }
 ],
 "metadata": {
  "kernelspec": {
   "display_name": ".NET (C#)",
   "language": "C#",
   "name": ".net-csharp"
  },
  "language_info": {
   "file_extension": ".cs",
   "mimetype": "text/x-csharp",
   "name": "C#",
   "pygments_lexer": "csharp",
   "version": "11.0"
  }
 },
 "nbformat": 4,
 "nbformat_minor": 5
}
