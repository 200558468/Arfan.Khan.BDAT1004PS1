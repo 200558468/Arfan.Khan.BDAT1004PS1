{
 "cells": [
  {
   "cell_type": "markdown",
   "id": "537b0a4a",
   "metadata": {},
   "source": [
    "# Question 6\n",
    "\n",
    "You can turn a word into pig-Latin using the following two rules(simplified):\n",
    "• If the word starts with a consonant, move that letter to the end and append\n",
    "'ay'. For example, 'happy' becomes 'appyhay' and 'pencil' becomes 'encilpay'.\n",
    "• If the word starts with a vowel, simply append 'way' to the end of the word.\n",
    "For example, 'enter' becomes 'enterway' and 'other' becomes 'otherway' . For\n",
    "our purposes, there are 5 vowels: a, e, i, o, u (so we count y as a consonant).\n",
    "Write a function pig() that takes a word (i.e., a string) as input and returns its pigLatin form. Your function should still work if the input word contains upper case\n",
    "characters. Your output should always be lower case however.  \n",
    ".>>> pig('happy')  \n",
    "'appyhay'  \n",
    ".>>> pig('Enter')  \n",
    "'enterway'\n",
    "\n"
   ]
  },
  {
   "cell_type": "code",
   "execution_count": 23,
   "id": "80789200",
   "metadata": {},
   "outputs": [],
   "source": [
    "# Solution\n",
    "\n",
    "vowels = ['a','e','i','o','u']\n",
    "def pig(string):\n",
    "    string = string.lower()\n",
    "    if(string[0] in vowels):\n",
    "        string = string+'way'\n",
    "    else:\n",
    "        string = string[1:]+string[0]+'ay'\n",
    "    return string"
   ]
  },
  {
   "cell_type": "code",
   "execution_count": 24,
   "id": "104283b9",
   "metadata": {},
   "outputs": [
    {
     "data": {
      "text/plain": [
       "'appyhay'"
      ]
     },
     "execution_count": 24,
     "metadata": {},
     "output_type": "execute_result"
    }
   ],
   "source": [
    "pig (\"happy\")"
   ]
  },
  {
   "cell_type": "code",
   "execution_count": 25,
   "id": "f37c2e77",
   "metadata": {},
   "outputs": [
    {
     "data": {
      "text/plain": [
       "'enterway'"
      ]
     },
     "execution_count": 25,
     "metadata": {},
     "output_type": "execute_result"
    }
   ],
   "source": [
    "pig(\"ENTER\")"
   ]
  },
  {
   "cell_type": "markdown",
   "id": "25026959",
   "metadata": {},
   "source": [
    "# Question 7\n",
    "\n",
    "File bloodtype1.txt records blood-types of patients (A, B, AB, O or OO) at a clinic.\n",
    "Write a function bldcount() that reads the file with name name and reports (i.e., prints) how many patients there are in each bloodtype.  \n",
    ".>>> bldcount('bloodtype.txt')  \n",
    "There are 10 patients of blood type A.  \n",
    "There is one patient of blood type B.  \n",
    "There are 10 patients of blood type AB.  \n",
    "There are 12 patients of blood type O.  \n",
    "There are no patients of blood type OO.  "
   ]
  },
  {
   "cell_type": "code",
   "execution_count": 20,
   "id": "523b2d3e",
   "metadata": {},
   "outputs": [],
   "source": [
    "def bldcount(name):\n",
    "    \n",
    "    bloodTypeFilePath = \"C:/Users/\" + name\n",
    "    \n",
    "    with open (bloodTypeFilePath, 'r') as file: \n",
    "        bloodTypesList = file.read().split()\n",
    "        bloodTypes = ['A','B','AB','O','OO']\n",
    "        for bloodType in bloodTypes:\n",
    "            count = bloodTypesList.count(bloodType)\n",
    "\n",
    "            if(count == 0): \n",
    "                 print(f\"There are no patients of blood type {bloodType}.\")\n",
    "\n",
    "            elif(count == 1): \n",
    "                print(f\"There is one patient with blood type {bloodType}.\")\n",
    "\n",
    "            else:\n",
    "                print(f\"There are {count} patients of blood type {bloodType}.\")\n"
   ]
  },
  {
   "cell_type": "code",
   "execution_count": 22,
   "id": "b1bbd589",
   "metadata": {},
   "outputs": [
    {
     "name": "stdout",
     "output_type": "stream",
     "text": [
      "There are 15 patients of blood type A.\n",
      "There is one patient with blood type B.\n",
      "There are 13 patients of blood type AB.\n",
      "There are 15 patients of blood type O.\n",
      "There are no patients of blood type OO.\n"
     ]
    }
   ],
   "source": [
    "bldcount(\"bloodtype1.txt\")"
   ]
  },
  {
   "cell_type": "markdown",
   "id": "743e35c9",
   "metadata": {},
   "source": [
    "# Question 8\n",
    "\n",
    "Write a function curconv() that takes as input:  \n",
    "1. a currency represented using a string (e.g., 'JPY' for the Japanese Yen or\n",
    "'EUR' for the Euro)\n",
    "2. an amount\n",
    "and then converts and returns the amount in US dollars.  \n",
    ".>>> curconv('EUR', 100)  \n",
    "122.96544  \n",
    ".>>> curconv('JPY', 100)  \n",
    "1.241401  \n",
    "The currency rates you will need are stored in file currencies.txt:  \n",
    "AUD 1.0345157 Australian Dollar  \n",
    "CHF 1.0237414 Swiss Franc  \n",
    "CNY 0.1550176 Chinese Yuan  \n",
    "DKK 0.1651442 Danish Krone  \n",
    "EUR 1.2296544 Euro  \n",
    "GBP 1.5550989 British Pound  \n",
    "HKD 0.1270207 Hong Kong Dollar  \n",
    "INR 0.0177643 Indian Rupee  \n",
    "JPY 0.01241401 Japanese Yen  \n",
    "MXN 0.0751848 Mexican Peso  \n",
    "MYR 0.3145411 Malaysian Ringgit  \n",
    "NOK 0.1677063 Norwegian Krone  "
   ]
  },
  {
   "cell_type": "code",
   "execution_count": 26,
   "id": "cf3cde32",
   "metadata": {},
   "outputs": [],
   "source": [
    "file_path = \"C:/Users/currencies.txt\"\n",
    "currencies = []\n",
    "with open(file_path,'r') as file:\n",
    "    for line in file:\n",
    "        splitString = line.split(\"\\t\")\n",
    "        data = {\"currency\" : splitString[0],\n",
    "                \"rate\": float(splitString[1]),\n",
    "                \"name\": splitString[2]}\n",
    "        currencies.append(data)\n",
    "\n",
    "def curconv(currency : str , amount : float):\n",
    "    for curr in currencies :\n",
    "        if(curr['currency'] == currency):\n",
    "            result = amount * curr['rate']\n",
    "    \n",
    "    return result"
   ]
  },
  {
   "cell_type": "code",
   "execution_count": 27,
   "id": "c3fb72ca",
   "metadata": {},
   "outputs": [
    {
     "data": {
      "text/plain": [
       "122.96544"
      ]
     },
     "execution_count": 27,
     "metadata": {},
     "output_type": "execute_result"
    }
   ],
   "source": [
    "curconv(\"EUR\", 100 )"
   ]
  },
  {
   "cell_type": "code",
   "execution_count": 28,
   "id": "265da637",
   "metadata": {},
   "outputs": [
    {
     "data": {
      "text/plain": [
       "1.241401"
      ]
     },
     "execution_count": 28,
     "metadata": {},
     "output_type": "execute_result"
    }
   ],
   "source": [
    "curconv(\"JPY\", 100)"
   ]
  },
  {
   "cell_type": "markdown",
   "id": "ad3e15fb",
   "metadata": {},
   "source": [
    "# Question 9 \n",
    "\n",
    "Each of the following will cause an exception (an error). Identify what type of exception each will cause\n",
    "\n",
    "1. Trying to add incompatible variables, as in adding 6 + ‘a’  \n",
    "\n",
    "2. Referring to the 12th item of a list that has only 10 items   \n",
    "\n",
    "3. Using a value that is out of range for a function’s input, such as calling math.sqrt(-1.0)       \n",
    "\n",
    "4. Using an undeclared variable, such as print(x) when x has not been defined  \n",
    "  \n",
    "5. Trying to open a file that does not exist, such as mistyping the file name or looking in the wrong directory. "
   ]
  },
  {
   "cell_type": "code",
   "execution_count": 30,
   "id": "f2cd2f74",
   "metadata": {},
   "outputs": [
    {
     "ename": "TypeError",
     "evalue": "unsupported operand type(s) for +: 'int' and 'str'",
     "output_type": "error",
     "traceback": [
      "\u001b[1;31m---------------------------------------------------------------------------\u001b[0m",
      "\u001b[1;31mTypeError\u001b[0m                                 Traceback (most recent call last)",
      "Cell \u001b[1;32mIn[30], line 3\u001b[0m\n\u001b[0;32m      1\u001b[0m \u001b[38;5;66;03m# Solution for 1\u001b[39;00m\n\u001b[1;32m----> 3\u001b[0m \u001b[38;5;241;43m6\u001b[39;49m\u001b[43m \u001b[49m\u001b[38;5;241;43m+\u001b[39;49m\u001b[43m \u001b[49m\u001b[38;5;124;43m'\u001b[39;49m\u001b[38;5;124;43ma\u001b[39;49m\u001b[38;5;124;43m'\u001b[39;49m\n",
      "\u001b[1;31mTypeError\u001b[0m: unsupported operand type(s) for +: 'int' and 'str'"
     ]
    }
   ],
   "source": [
    "# Solution for 1\n",
    "\n",
    "6 + 'a'"
   ]
  },
  {
   "cell_type": "code",
   "execution_count": 41,
   "id": "adbe1c45",
   "metadata": {},
   "outputs": [
    {
     "ename": "IndexError",
     "evalue": "list index out of range",
     "output_type": "error",
     "traceback": [
      "\u001b[1;31m---------------------------------------------------------------------------\u001b[0m",
      "\u001b[1;31mIndexError\u001b[0m                                Traceback (most recent call last)",
      "Cell \u001b[1;32mIn[41], line 4\u001b[0m\n\u001b[0;32m      1\u001b[0m \u001b[38;5;66;03m# solution for 2\u001b[39;00m\n\u001b[0;32m      3\u001b[0m \u001b[38;5;28mlist\u001b[39m \u001b[38;5;241m=\u001b[39m [\u001b[38;5;241m1\u001b[39m, \u001b[38;5;241m2\u001b[39m, \u001b[38;5;241m3\u001b[39m, \u001b[38;5;241m4\u001b[39m, \u001b[38;5;241m5\u001b[39m, \u001b[38;5;241m6\u001b[39m, \u001b[38;5;241m7\u001b[39m, \u001b[38;5;241m8\u001b[39m, \u001b[38;5;241m9\u001b[39m, \u001b[38;5;241m10\u001b[39m]\n\u001b[1;32m----> 4\u001b[0m \u001b[38;5;28mprint\u001b[39m(\u001b[38;5;28;43mlist\u001b[39;49m\u001b[43m[\u001b[49m\u001b[38;5;241;43m12\u001b[39;49m\u001b[43m]\u001b[49m)\n",
      "\u001b[1;31mIndexError\u001b[0m: list index out of range"
     ]
    }
   ],
   "source": [
    "# solution for 2\n",
    "\n",
    "list = [1, 2, 3, 4, 5, 6, 7, 8, 9, 10]\n",
    "print(list[12])\n"
   ]
  },
  {
   "cell_type": "code",
   "execution_count": 39,
   "id": "59dad3e9",
   "metadata": {},
   "outputs": [
    {
     "ename": "ValueError",
     "evalue": "math domain error",
     "output_type": "error",
     "traceback": [
      "\u001b[1;31m---------------------------------------------------------------------------\u001b[0m",
      "\u001b[1;31mValueError\u001b[0m                                Traceback (most recent call last)",
      "Cell \u001b[1;32mIn[39], line 5\u001b[0m\n\u001b[0;32m      1\u001b[0m \u001b[38;5;66;03m# solution for 3\u001b[39;00m\n\u001b[0;32m      3\u001b[0m \u001b[38;5;28;01mimport\u001b[39;00m \u001b[38;5;21;01mmath\u001b[39;00m\n\u001b[1;32m----> 5\u001b[0m result \u001b[38;5;241m=\u001b[39m \u001b[43mmath\u001b[49m\u001b[38;5;241;43m.\u001b[39;49m\u001b[43msqrt\u001b[49m\u001b[43m(\u001b[49m\u001b[38;5;241;43m-\u001b[39;49m\u001b[38;5;241;43m1.0\u001b[39;49m\u001b[43m)\u001b[49m\n",
      "\u001b[1;31mValueError\u001b[0m: math domain error"
     ]
    }
   ],
   "source": [
    "# solution for 3\n",
    "\n",
    "import math\n",
    "\n",
    "result = math.sqrt(-1.0)\n"
   ]
  },
  {
   "cell_type": "code",
   "execution_count": 1,
   "id": "45907003",
   "metadata": {},
   "outputs": [
    {
     "ename": "NameError",
     "evalue": "name 'x' is not defined",
     "output_type": "error",
     "traceback": [
      "\u001b[1;31m---------------------------------------------------------------------------\u001b[0m",
      "\u001b[1;31mNameError\u001b[0m                                 Traceback (most recent call last)",
      "Cell \u001b[1;32mIn[1], line 3\u001b[0m\n\u001b[0;32m      1\u001b[0m \u001b[38;5;66;03m# solutin for 4\u001b[39;00m\n\u001b[1;32m----> 3\u001b[0m \u001b[38;5;28mprint\u001b[39m(\u001b[43mx\u001b[49m)\n",
      "\u001b[1;31mNameError\u001b[0m: name 'x' is not defined"
     ]
    }
   ],
   "source": [
    "# solutin for 4\n",
    "\n",
    "print(x)"
   ]
  },
  {
   "cell_type": "code",
   "execution_count": 6,
   "id": "911aa0d1",
   "metadata": {},
   "outputs": [
    {
     "ename": "FileNotFoundError",
     "evalue": "[Errno 2] No such file or directory: 'random.txt'",
     "output_type": "error",
     "traceback": [
      "\u001b[1;31m---------------------------------------------------------------------------\u001b[0m",
      "\u001b[1;31mFileNotFoundError\u001b[0m                         Traceback (most recent call last)",
      "Cell \u001b[1;32mIn[6], line 3\u001b[0m\n\u001b[0;32m      1\u001b[0m \u001b[38;5;66;03m# sollutin for 5 \u001b[39;00m\n\u001b[1;32m----> 3\u001b[0m \u001b[38;5;28;01mwith\u001b[39;00m \u001b[38;5;28;43mopen\u001b[39;49m\u001b[43m(\u001b[49m\u001b[38;5;124;43m'\u001b[39;49m\u001b[38;5;124;43mrandom.txt\u001b[39;49m\u001b[38;5;124;43m'\u001b[39;49m\u001b[43m,\u001b[49m\u001b[43m \u001b[49m\u001b[38;5;124;43m'\u001b[39;49m\u001b[38;5;124;43mr\u001b[39;49m\u001b[38;5;124;43m'\u001b[39;49m\u001b[43m)\u001b[49m \u001b[38;5;28;01mas\u001b[39;00m file:\n\u001b[0;32m      4\u001b[0m     contents \u001b[38;5;241m=\u001b[39m file\u001b[38;5;241m.\u001b[39mread()\n\u001b[0;32m      6\u001b[0m \u001b[38;5;28mprint\u001b[39m(contents)\n",
      "File \u001b[1;32mC:\\anaconda3\\lib\\site-packages\\IPython\\core\\interactiveshell.py:282\u001b[0m, in \u001b[0;36m_modified_open\u001b[1;34m(file, *args, **kwargs)\u001b[0m\n\u001b[0;32m    275\u001b[0m \u001b[38;5;28;01mif\u001b[39;00m file \u001b[38;5;129;01min\u001b[39;00m {\u001b[38;5;241m0\u001b[39m, \u001b[38;5;241m1\u001b[39m, \u001b[38;5;241m2\u001b[39m}:\n\u001b[0;32m    276\u001b[0m     \u001b[38;5;28;01mraise\u001b[39;00m \u001b[38;5;167;01mValueError\u001b[39;00m(\n\u001b[0;32m    277\u001b[0m         \u001b[38;5;124mf\u001b[39m\u001b[38;5;124m\"\u001b[39m\u001b[38;5;124mIPython won\u001b[39m\u001b[38;5;124m'\u001b[39m\u001b[38;5;124mt let you open fd=\u001b[39m\u001b[38;5;132;01m{\u001b[39;00mfile\u001b[38;5;132;01m}\u001b[39;00m\u001b[38;5;124m by default \u001b[39m\u001b[38;5;124m\"\u001b[39m\n\u001b[0;32m    278\u001b[0m         \u001b[38;5;124m\"\u001b[39m\u001b[38;5;124mas it is likely to crash IPython. If you know what you are doing, \u001b[39m\u001b[38;5;124m\"\u001b[39m\n\u001b[0;32m    279\u001b[0m         \u001b[38;5;124m\"\u001b[39m\u001b[38;5;124myou can use builtins\u001b[39m\u001b[38;5;124m'\u001b[39m\u001b[38;5;124m open.\u001b[39m\u001b[38;5;124m\"\u001b[39m\n\u001b[0;32m    280\u001b[0m     )\n\u001b[1;32m--> 282\u001b[0m \u001b[38;5;28;01mreturn\u001b[39;00m io_open(file, \u001b[38;5;241m*\u001b[39margs, \u001b[38;5;241m*\u001b[39m\u001b[38;5;241m*\u001b[39mkwargs)\n",
      "\u001b[1;31mFileNotFoundError\u001b[0m: [Errno 2] No such file or directory: 'random.txt'"
     ]
    }
   ],
   "source": [
    "# sollutin for 5 \n",
    "\n",
    "with open('random.txt', 'r') as file:\n",
    "    contents = file.read()\n",
    "\n",
    "print(contents)\n"
   ]
  },
  {
   "cell_type": "markdown",
   "id": "7f9549b8",
   "metadata": {},
   "source": [
    "# Question 10\n",
    "\n",
    "Encryption is the process of hiding the meaning of a text by substituting letters in the\n",
    "message with other letters, according to some system. If the process is successful, no\n",
    "one but the intended recipient can understand the encrypted message. Cryptanalysis\n",
    "refers to attempts to undo the encryption, even if some details of the encryption are\n",
    "unknown (for example, if an encrypted message has been intercepted). The first step\n",
    "of cryptanalysis is often to build up a table of letter frequencies in the encrypted text.  \n",
    "  \n",
    "Assume that the string letters is already defined as'abcdefghijklmnopqrstuvwxyz'. Write a function called frequencies()\n",
    "that takes a string as its only parameter, and returns a list of integers, showing the\n",
    "number of times each character appears in the text.  \n",
    "Your function may ignore any characters that are not in letters.  \n",
    "  \n",
    ".>>> frequencies('The quick red fox got bored and went home.')  \n",
    "[1, 1, 1, 3, 5, 1, 1, 2, 1, 0, 1, 0, 1, 2, 4, 0, 1, 2, 0, 2,\n",
    "1, 0, 1, 1, 0, 0]\n",
    "  \n",
    ".>>> frequencies('apple')\n"
   ]
  },
  {
   "cell_type": "code",
   "execution_count": 1,
   "id": "4c91b711",
   "metadata": {},
   "outputs": [],
   "source": [
    "def frequencies(string):\n",
    "    freqList = [0]*26 # declare a variable to list 26 integers to store count. \n",
    "    alphas = 'abcdefghijklmnopqrstuvwxyz'\n",
    "    for char in string:\n",
    "        if char in alphas:\n",
    "            pos = alphas.index(char) \n",
    "            freqList[pos] +=1\n",
    "    return freqList"
   ]
  },
  {
   "cell_type": "markdown",
   "id": "92dee6d2",
   "metadata": {},
   "source": [
    "I have used [stackoverflow](https://stackoverflow.com/questions/3459098/create-list-of-single-item-repeated-n-times) to create a list of 26 variable with values 0"
   ]
  },
  {
   "cell_type": "code",
   "execution_count": 2,
   "id": "3a3bcb44",
   "metadata": {},
   "outputs": [
    {
     "data": {
      "text/plain": [
       "[1, 1, 1, 3, 5, 1, 1, 2, 1, 0, 1, 0, 1, 2, 4, 0, 1, 2, 0, 2, 1, 0, 1, 1, 0, 0]"
      ]
     },
     "execution_count": 2,
     "metadata": {},
     "output_type": "execute_result"
    }
   ],
   "source": [
    "frequencies(\"'The quick red fox got bored and went home.\")"
   ]
  },
  {
   "cell_type": "code",
   "execution_count": 3,
   "id": "fa31a9d5",
   "metadata": {},
   "outputs": [
    {
     "data": {
      "text/plain": [
       "[1, 0, 0, 0, 1, 0, 0, 0, 0, 0, 0, 1, 0, 0, 0, 2, 0, 0, 0, 0, 0, 0, 0, 0, 0, 0]"
      ]
     },
     "execution_count": 3,
     "metadata": {},
     "output_type": "execute_result"
    }
   ],
   "source": [
    "frequencies(\"apple\")"
   ]
  }
 ],
 "metadata": {
  "kernelspec": {
   "display_name": "Python 3 (ipykernel)",
   "language": "python",
   "name": "python3"
  },
  "language_info": {
   "codemirror_mode": {
    "name": "ipython",
    "version": 3
   },
   "file_extension": ".py",
   "mimetype": "text/x-python",
   "name": "python",
   "nbconvert_exporter": "python",
   "pygments_lexer": "ipython3",
   "version": "3.10.9"
  }
 },
 "nbformat": 4,
 "nbformat_minor": 5
}
